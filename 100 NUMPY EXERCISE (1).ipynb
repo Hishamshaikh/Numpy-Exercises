{
 "cells": [
  {
   "cell_type": "markdown",
   "metadata": {},
   "source": [
    "# 100 numpy exercises"
   ]
  },
  {
   "cell_type": "markdown",
   "metadata": {},
   "source": [
    "Python code in one module gains access to the code in another module by the process of importing it"
   ]
  },
  {
   "cell_type": "markdown",
   "metadata": {},
   "source": [
    "1. Import the numpy package under the name np\n",
    "       np also called alias name for numpy package      "
   ]
  },
  {
   "cell_type": "code",
   "execution_count": 1,
   "metadata": {},
   "outputs": [],
   "source": [
    "import numpy as np"
   ]
  },
  {
   "cell_type": "markdown",
   "metadata": {},
   "source": [
    "2. Print the numpy version and the configuration.\n",
    "\n",
    "      These syntax use for check numpy version and confiruered."
   ]
  },
  {
   "cell_type": "code",
   "execution_count": 3,
   "metadata": {},
   "outputs": [
    {
     "name": "stdout",
     "output_type": "stream",
     "text": [
      "1.18.2\n"
     ]
    }
   ],
   "source": [
    "print(np.__version__)"
   ]
  },
  {
   "cell_type": "markdown",
   "metadata": {},
   "source": [
    "3. Create a null vector of size 10 "
   ]
  },
  {
   "cell_type": "code",
   "execution_count": 4,
   "metadata": {},
   "outputs": [
    {
     "name": "stdout",
     "output_type": "stream",
     "text": [
      "[0. 0. 0. 0. 0. 0. 0. 0. 0. 0.]\n"
     ]
    }
   ],
   "source": [
    "x = np.zeros(10)\n",
    "print(x)"
   ]
  },
  {
   "cell_type": "markdown",
   "metadata": {},
   "source": [
    "4. How to find the memory size of any array "
   ]
  },
  {
   "cell_type": "code",
   "execution_count": 8,
   "metadata": {},
   "outputs": [
    {
     "name": "stdout",
     "output_type": "stream",
     "text": [
      "80 bytes\n"
     ]
    }
   ],
   "source": [
    "print(x.size * x.itemsize,  \"bytes\")\n"
   ]
  },
  {
   "cell_type": "markdown",
   "metadata": {},
   "source": [
    "5. Write a NumPy program to multiply a matrix by another matrix of complex numbers and create a new matrix of complex numbers."
   ]
  },
  {
   "cell_type": "code",
   "execution_count": 9,
   "metadata": {},
   "outputs": [
    {
     "name": "stdout",
     "output_type": "stream",
     "text": [
      "First array:\n",
      "[1.+2.j 3.+4.j]\n",
      "Second array:\n",
      "[5.+6.j 7.+8.j]\n",
      "Product of above two arrays:\n",
      "(70-8j)\n"
     ]
    }
   ],
   "source": [
    "import numpy as np\n",
    "x = np.array([1+2j,3+4j])\n",
    "print(\"First array:\")\n",
    "print(x)\n",
    "y = np.array([5+6j,7+8j])\n",
    "print(\"Second array:\")\n",
    "print(y)\n",
    "z = np.vdot(x, y)\n",
    "print(\"Product of above two arrays:\")\n",
    "print(z)"
   ]
  },
  {
   "cell_type": "markdown",
   "metadata": {},
   "source": [
    "6. Create a null vector of size 10 but the fifth value which is 1"
   ]
  },
  {
   "cell_type": "code",
   "execution_count": 10,
   "metadata": {},
   "outputs": [
    {
     "name": "stdout",
     "output_type": "stream",
     "text": [
      "[0. 0. 0. 0. 0. 0. 0. 0. 0. 0.]\n",
      "Update fifth value to 1\n",
      "[0. 0. 0. 0. 0. 1. 0. 0. 0. 0.]\n"
     ]
    }
   ],
   "source": [
    "x = np.zeros(10)\n",
    "print(x)\n",
    "print(\"Update fifth value to 1\")\n",
    "x[5] = 1\n",
    "print(x)"
   ]
  },
  {
   "cell_type": "markdown",
   "metadata": {},
   "source": [
    "7. Create a vector with values ranging from 10 to 49"
   ]
  },
  {
   "cell_type": "code",
   "execution_count": 11,
   "metadata": {},
   "outputs": [
    {
     "name": "stdout",
     "output_type": "stream",
     "text": [
      "[10.         10.79591837 11.59183673 12.3877551  13.18367347 13.97959184\n",
      " 14.7755102  15.57142857 16.36734694 17.16326531 17.95918367 18.75510204\n",
      " 19.55102041 20.34693878 21.14285714 21.93877551 22.73469388 23.53061224\n",
      " 24.32653061 25.12244898 25.91836735 26.71428571 27.51020408 28.30612245\n",
      " 29.10204082 29.89795918 30.69387755 31.48979592 32.28571429 33.08163265\n",
      " 33.87755102 34.67346939 35.46938776 36.26530612 37.06122449 37.85714286\n",
      " 38.65306122 39.44897959 40.24489796 41.04081633 41.83673469 42.63265306\n",
      " 43.42857143 44.2244898  45.02040816 45.81632653 46.6122449  47.40816327\n",
      " 48.20408163 49.        ]\n"
     ]
    }
   ],
   "source": [
    "y = np.linspace(10,49)\n",
    "print(y)\n"
   ]
  },
  {
   "cell_type": "markdown",
   "metadata": {},
   "source": [
    "8. Reverse a vector (first element becomes last)"
   ]
  },
  {
   "cell_type": "code",
   "execution_count": 12,
   "metadata": {},
   "outputs": [
    {
     "name": "stdout",
     "output_type": "stream",
     "text": [
      "Original array:\n",
      "[12 13 14 15 16 17 18 19 20 21 22 23 24 25 26 27 28 29 30 31 32 33 34 35\n",
      " 36 37]\n",
      "Reverse array:\n",
      "[37 36 35 34 33 32 31 30 29 28 27 26 25 24 23 22 21 20 19 18 17 16 15 14\n",
      " 13 12]\n"
     ]
    }
   ],
   "source": [
    "x = np.arange(12, 38)\n",
    "print(\"Original array:\")\n",
    "print(x)\n",
    "print(\"Reverse array:\")\n",
    "x = x[::-1]\n",
    "print(x)"
   ]
  },
  {
   "cell_type": "markdown",
   "metadata": {},
   "source": [
    "9. Create a 3x3 matrix with values ranging from 0 to 8"
   ]
  },
  {
   "cell_type": "code",
   "execution_count": 14,
   "metadata": {},
   "outputs": [
    {
     "name": "stdout",
     "output_type": "stream",
     "text": [
      "[[0 1 2]\n",
      " [3 4 5]\n",
      " [6 7 8]]\n"
     ]
    }
   ],
   "source": [
    "z =  np.arange(0, 9).reshape(3,3)\n",
    "print(z)"
   ]
  },
  {
   "cell_type": "markdown",
   "metadata": {},
   "source": [
    "10. Find indices of non-zero elements from [1,2,0,0,4,0]"
   ]
  },
  {
   "cell_type": "code",
   "execution_count": 19,
   "metadata": {},
   "outputs": [
    {
     "name": "stdout",
     "output_type": "stream",
     "text": [
      "Original array:\n",
      "[1 2 0 0 4 0]\n",
      "Indices of elements not equal to zero of the said array:\n",
      "[0 1 4]\n"
     ]
    }
   ],
   "source": [
    "nums = np.array([1,2,0,0,4,0])\n",
    "print(\"Original array:\")\n",
    "print(nums)\n",
    "print(\"Indices of elements not equal to zero of the said array:\")\n",
    "result = np.where(nums != 0)[0]\n",
    "print(result)"
   ]
  },
  {
   "cell_type": "markdown",
   "metadata": {},
   "source": [
    "11. Create a 3x3 identity matrix "
   ]
  },
  {
   "cell_type": "code",
   "execution_count": 21,
   "metadata": {},
   "outputs": [
    {
     "name": "stdout",
     "output_type": "stream",
     "text": [
      "3x3 matrix:\n",
      "[[1. 0. 0.]\n",
      " [0. 1. 0.]\n",
      " [0. 0. 1.]]\n"
     ]
    }
   ],
   "source": [
    "a=np.identity(3)\n",
    "print('3x3 matrix:')\n",
    "print(a)"
   ]
  },
  {
   "cell_type": "markdown",
   "metadata": {},
   "source": [
    "12. Create a 3x3x3 array with random values"
   ]
  },
  {
   "cell_type": "code",
   "execution_count": 23,
   "metadata": {},
   "outputs": [
    {
     "name": "stdout",
     "output_type": "stream",
     "text": [
      "[[[0.63108992 0.63360112 0.68022349]\n",
      "  [0.98132175 0.9337579  0.0495567 ]\n",
      "  [0.00988264 0.73195979 0.44081572]]\n",
      "\n",
      " [[0.56633398 0.19634299 0.66885708]\n",
      "  [0.39271624 0.70429542 0.88188984]\n",
      "  [0.69406704 0.42743722 0.92669952]]\n",
      "\n",
      " [[0.78706961 0.20844786 0.65811544]\n",
      "  [0.84546689 0.21831613 0.67076179]\n",
      "  [0.19169448 0.21259113 0.82992976]]]\n"
     ]
    }
   ],
   "source": [
    "b = np.random.random((3,3,3))\n",
    "print(b)\n"
   ]
  },
  {
   "cell_type": "markdown",
   "metadata": {},
   "source": [
    "13. Create a 10x10 array with random values and find the minimum and maximum values "
   ]
  },
  {
   "cell_type": "code",
   "execution_count": 25,
   "metadata": {},
   "outputs": [
    {
     "name": "stdout",
     "output_type": "stream",
     "text": [
      "Original Array:\n",
      "[[0.63500943 0.57342814 0.33970207 0.29810264 0.7950192  0.33822312\n",
      "  0.65400462 0.96286117 0.44772601 0.75995098]\n",
      " [0.07378215 0.92031809 0.13441711 0.58522507 0.0824805  0.55036687\n",
      "  0.72417867 0.3420072  0.4226856  0.86667264]\n",
      " [0.65723571 0.04110764 0.70333604 0.93540188 0.85833585 0.54802274\n",
      "  0.34596218 0.26311322 0.03444569 0.92462648]\n",
      " [0.8261954  0.21263754 0.32744535 0.66578534 0.43455573 0.90277269\n",
      "  0.02911962 0.31722211 0.03349491 0.23055454]\n",
      " [0.24107664 0.5906291  0.98059139 0.51133039 0.7691446  0.37971801\n",
      "  0.19372392 0.07255116 0.75657189 0.72586154]\n",
      " [0.62782586 0.30764857 0.68064252 0.31063377 0.22654282 0.69105822\n",
      "  0.27271657 0.88905233 0.37798126 0.37867674]\n",
      " [0.04137282 0.33578501 0.37418972 0.23567416 0.3315583  0.32690167\n",
      "  0.30882541 0.16003049 0.78971666 0.82205344]\n",
      " [0.68515886 0.45909984 0.99769963 0.24122295 0.2911417  0.81044973\n",
      "  0.0550643  0.92442787 0.98783945 0.04927552]\n",
      " [0.01607662 0.11729306 0.50134187 0.79648025 0.21604892 0.76177884\n",
      "  0.13552577 0.74449166 0.96982821 0.458542  ]\n",
      " [0.21188723 0.78287301 0.32518872 0.02483442 0.20153231 0.17311299\n",
      "  0.74796749 0.1278737  0.20160147 0.18089981]]\n",
      "Minimum and Maximum Values:\n",
      "0.01607662425249967 0.9976996344969081\n"
     ]
    }
   ],
   "source": [
    "c = np.random.random((10,10))\n",
    "print(\"Original Array:\")\n",
    "print(c) \n",
    "xmin, xmax = c.min(), c.max()\n",
    "print(\"Minimum and Maximum Values:\")\n",
    "print(xmin, xmax)"
   ]
  },
  {
   "cell_type": "markdown",
   "metadata": {},
   "source": [
    "14. Create a random vector of size 30 and find the mean value"
   ]
  },
  {
   "cell_type": "code",
   "execution_count": 28,
   "metadata": {},
   "outputs": [
    {
     "name": "stdout",
     "output_type": "stream",
     "text": [
      "Original array:\n",
      "[1.01558611e-01 1.95870904e-01 2.55252189e-01 2.96119304e-01\n",
      " 2.81844415e-01 9.42847764e-02 9.74334559e-01 5.97905383e-01\n",
      " 3.51358012e-03 7.89679005e-01 6.90075379e-01 2.84634986e-01\n",
      " 9.14729589e-02 7.95702368e-01 8.03959154e-01 5.14716625e-01\n",
      " 1.10989328e-01 4.43093483e-01 3.00317962e-01 6.63712401e-01\n",
      " 4.02226019e-02 4.72569609e-01 8.65470500e-01 3.28926395e-01\n",
      " 7.56706872e-01 7.02145454e-01 4.87565519e-04 7.10649136e-01\n",
      " 9.25035964e-01 5.00733353e-01]\n"
     ]
    },
    {
     "data": {
      "text/plain": [
       "0.4530661607797092"
      ]
     },
     "execution_count": 28,
     "metadata": {},
     "output_type": "execute_result"
    }
   ],
   "source": [
    "d = np.random.random(30)\n",
    "print(\"Original array:\")\n",
    "print(d)\n",
    "d.mean()"
   ]
  },
  {
   "cell_type": "markdown",
   "metadata": {},
   "source": [
    "15. Create a 2d array with 1 on the border and 0 inside "
   ]
  },
  {
   "cell_type": "code",
   "execution_count": 37,
   "metadata": {},
   "outputs": [
    {
     "name": "stdout",
     "output_type": "stream",
     "text": [
      "1 on the border and 0 inside in the array\n",
      "[[1. 1. 1. 1. 1.]\n",
      " [1. 0. 0. 0. 1.]\n",
      " [1. 0. 0. 0. 1.]\n",
      " [1. 0. 0. 0. 1.]\n",
      " [1. 1. 1. 1. 1.]]\n"
     ]
    }
   ],
   "source": [
    "x = np.ones((5,5))\n",
    "print(\"1 on the border and 0 inside in the array\")\n",
    "x[1:-1,1:-1] = 0\n",
    "print(x)"
   ]
  },
  {
   "cell_type": "markdown",
   "metadata": {},
   "source": [
    "16. How to add a border (filled with 0's) around an existing array?"
   ]
  },
  {
   "cell_type": "code",
   "execution_count": 38,
   "metadata": {},
   "outputs": [
    {
     "name": "stdout",
     "output_type": "stream",
     "text": [
      "Original array:\n",
      "[[1. 1. 1.]\n",
      " [1. 1. 1.]\n",
      " [1. 1. 1.]]\n",
      "0 on the border and 1 inside in the array\n",
      "[[0. 0. 0. 0. 0.]\n",
      " [0. 1. 1. 1. 0.]\n",
      " [0. 1. 1. 1. 0.]\n",
      " [0. 1. 1. 1. 0.]\n",
      " [0. 0. 0. 0. 0.]]\n"
     ]
    }
   ],
   "source": [
    "e = np.ones((3,3))\n",
    "print(\"Original array:\")\n",
    "print(e)\n",
    "print(\"0 on the border and 1 inside in the array\")\n",
    "e = np.pad(e, pad_width=1, mode='constant', constant_values=0)\n",
    "print(e)"
   ]
  },
  {
   "cell_type": "markdown",
   "metadata": {},
   "source": [
    "17. What is the result of the following expression? "
   ]
  },
  {
   "cell_type": "code",
   "execution_count": 47,
   "metadata": {},
   "outputs": [
    {
     "name": "stdout",
     "output_type": "stream",
     "text": [
      "nan\n",
      "False\n",
      "False\n",
      "nan\n",
      "True\n",
      "False\n"
     ]
    }
   ],
   "source": [
    "a = 0 * np.nan\n",
    "print(a)\n",
    "b = np.nan == np.nan\n",
    "print(b)\n",
    "c = np.inf > np.nan\n",
    "print(c)\n",
    "d = np.nan - np.nan\n",
    "print(d)\n",
    "e = np.nan in set([np.nan])\n",
    "print(e)\n",
    "f = 0.3 == 3 * 0.1\n",
    "print(f)"
   ]
  },
  {
   "cell_type": "markdown",
   "metadata": {},
   "source": [
    "18. Create a 5x5 matrix with values 1,2,3,4 just below the diagonal"
   ]
  },
  {
   "cell_type": "code",
   "execution_count": 61,
   "metadata": {},
   "outputs": [
    {
     "name": "stdout",
     "output_type": "stream",
     "text": [
      "[[0 0 0 0 0 0]\n",
      " [1 0 0 0 0 0]\n",
      " [0 2 0 0 0 0]\n",
      " [0 0 3 0 0 0]\n",
      " [0 0 0 4 0 0]\n",
      " [0 0 0 0 5 0]]\n"
     ]
    }
   ],
   "source": [
    "x = np.diag([1, 2, 3, 4, 5],k=-1)\n",
    "print(x)"
   ]
  },
  {
   "cell_type": "markdown",
   "metadata": {},
   "source": [
    "19. Create a 8x8 matrix and fill it with a checkerboard pattern"
   ]
  },
  {
   "cell_type": "code",
   "execution_count": 63,
   "metadata": {},
   "outputs": [
    {
     "name": "stdout",
     "output_type": "stream",
     "text": [
      "Checkerboard pattern:\n",
      "[[0 1 0 1 0 1 0 1]\n",
      " [1 0 1 0 1 0 1 0]\n",
      " [0 1 0 1 0 1 0 1]\n",
      " [1 0 1 0 1 0 1 0]\n",
      " [0 1 0 1 0 1 0 1]\n",
      " [1 0 1 0 1 0 1 0]\n",
      " [0 1 0 1 0 1 0 1]\n",
      " [1 0 1 0 1 0 1 0]]\n"
     ]
    }
   ],
   "source": [
    "x = np.ones((3,3))\n",
    "print(\"Checkerboard pattern:\")\n",
    "x = np.zeros((8,8),dtype=int)\n",
    "x[1::2,::2] = 1\n",
    "x[::2,1::2] = 1\n",
    "print(x)"
   ]
  },
  {
   "cell_type": "markdown",
   "metadata": {},
   "source": [
    "20. Consider a (6,7,8) shape array, what is the index (x,y,z) of the 100th element?"
   ]
  },
  {
   "cell_type": "code",
   "execution_count": null,
   "metadata": {},
   "outputs": [],
   "source": []
  },
  {
   "cell_type": "markdown",
   "metadata": {},
   "source": [
    "21. Create a checkerboard 8x8 matrix using the tile function ***"
   ]
  },
  {
   "cell_type": "code",
   "execution_count": null,
   "metadata": {},
   "outputs": [],
   "source": []
  },
  {
   "cell_type": "markdown",
   "metadata": {},
   "source": [
    "22. Normalize a 5x5 random matrix "
   ]
  },
  {
   "cell_type": "code",
   "execution_count": 88,
   "metadata": {},
   "outputs": [
    {
     "name": "stdout",
     "output_type": "stream",
     "text": [
      "Original Array:\n",
      "[[0.68724101 0.52548162 0.95163835 0.51638954 0.75965753]\n",
      " [0.73275459 0.05673693 0.00218838 0.9963216  0.42168189]\n",
      " [0.4135928  0.45992329 0.56803079 0.84244628 0.60234873]\n",
      " [0.05395639 0.07335903 0.23106518 0.89680915 0.1718498 ]\n",
      " [0.1363997  0.85403767 0.55492546 0.64086498 0.7364955 ]]\n",
      "After normalization:\n",
      "[[0.6890954  0.52638141 0.95505305 0.51723567 0.76193927]\n",
      " [0.73487757 0.05487046 0.         1.         0.42196911]\n",
      " [0.41383228 0.46043618 0.56918167 0.8452166  0.60370214]\n",
      " [0.05207352 0.07159066 0.2302275  0.89990029 0.17066266]\n",
      " [0.13500335 0.85687639 0.555999   0.64244569 0.73864056]]\n"
     ]
    }
   ],
   "source": [
    "x= np.random.random((5,5))\n",
    "print(\"Original Array:\")\n",
    "print(x)\n",
    "xmax, xmin = x.max(), x.min()\n",
    "x = (x - xmin)/(xmax - xmin)\n",
    "print(\"After normalization:\")\n",
    "print(x)"
   ]
  },
  {
   "cell_type": "markdown",
   "metadata": {},
   "source": [
    "23. Write a NumPy program to get the floor, ceiling and truncated values of the elements of a numpy array."
   ]
  },
  {
   "cell_type": "code",
   "execution_count": 89,
   "metadata": {},
   "outputs": [
    {
     "name": "stdout",
     "output_type": "stream",
     "text": [
      "Original array:\n",
      "[-1.6 -1.5 -0.3  0.1  1.4  1.8  2. ]\n",
      "Floor values of the above array elements:\n",
      "[-2. -2. -1.  0.  1.  1.  2.]\n",
      "Ceil values of the above array elements:\n",
      "[-1. -1. -0.  1.  2.  2.  2.]\n",
      "Truncated values of the above array elements:\n",
      "[-1. -1. -0.  0.  1.  1.  2.]\n"
     ]
    }
   ],
   "source": [
    "x = np.array([-1.6, -1.5, -0.3, 0.1, 1.4, 1.8, 2.0])\n",
    "print(\"Original array:\")\n",
    "print(x)\n",
    "print(\"Floor values of the above array elements:\")\n",
    "print(np.floor(x))\n",
    "print(\"Ceil values of the above array elements:\")\n",
    "print(np.ceil(x))\n",
    "print(\"Truncated values of the above array elements:\")\n",
    "print(np.trunc(x))"
   ]
  },
  {
   "cell_type": "markdown",
   "metadata": {},
   "source": [
    "24. Multiply a 5x3 matrix by a 3x2 matrix (real matrix product)"
   ]
  },
  {
   "cell_type": "code",
   "execution_count": 90,
   "metadata": {},
   "outputs": [
    {
     "name": "stdout",
     "output_type": "stream",
     "text": [
      "First array:\n",
      "[[0.85875587 0.46331808 0.5055545 ]\n",
      " [0.16901486 0.87790653 0.8751936 ]\n",
      " [0.54229694 0.24144963 0.95738449]\n",
      " [0.27598326 0.20958368 0.97364138]\n",
      " [0.24349139 0.78235863 0.67722388]]\n",
      "Second array:\n",
      "[[0.83331557 0.26664712]\n",
      " [0.14372246 0.26246732]\n",
      " [0.15508418 0.53990759]]\n",
      "Dot product of two arrays:\n",
      "[[0.86060736 0.62354335]\n",
      " [0.40274628 0.74801277]\n",
      " [0.63508141 0.72487371]\n",
      " [0.41109941 0.65427538]\n",
      " [0.42037439 0.63590816]]\n"
     ]
    }
   ],
   "source": [
    "x = np.random.random((5,3))\n",
    "print(\"First array:\")\n",
    "print(x)\n",
    "y = np.random.random((3,2))\n",
    "print(\"Second array:\")\n",
    "print(y)\n",
    "z = np.dot(x, y)\n",
    "print(\"Dot product of two arrays:\")\n",
    "print(z)"
   ]
  },
  {
   "cell_type": "markdown",
   "metadata": {},
   "source": [
    "25. Given a 1D array, negate all elements which are between 3 and 8, in place."
   ]
  },
  {
   "cell_type": "code",
   "execution_count": 100,
   "metadata": {},
   "outputs": [
    {
     "name": "stdout",
     "output_type": "stream",
     "text": [
      "[ 0  1  2  3  4  5  6  7  8  9 10]\n",
      "[ 0  1  2 -3 -4 -5 -6 -7 -8  9 10]\n"
     ]
    }
   ],
   "source": [
    "a = np.arange(11)\n",
    "print(a)\n",
    "a[3:9] = np.negative(a[3:9])\n",
    "print(a)"
   ]
  },
  {
   "cell_type": "markdown",
   "metadata": {},
   "source": [
    "26. What is the output of the following script?"
   ]
  },
  {
   "cell_type": "code",
   "execution_count": null,
   "metadata": {},
   "outputs": [],
   "source": []
  },
  {
   "cell_type": "markdown",
   "metadata": {},
   "source": [
    "27. Write a NumPy program to get the element-wise remainder of an array of division."
   ]
  },
  {
   "cell_type": "code",
   "execution_count": 103,
   "metadata": {},
   "outputs": [
    {
     "name": "stdout",
     "output_type": "stream",
     "text": [
      "Original array:\n",
      "[0 1 2 3 4 5 6]\n",
      "Element-wise remainder of division:\n",
      "[0 1 2 3 4 0 1]\n"
     ]
    }
   ],
   "source": [
    "x = np.arange(7)\n",
    "print(\"Original array:\")\n",
    "print(x)\n",
    "print(\"Element-wise remainder of division:\")\n",
    "print(np.remainder(x, 5))"
   ]
  },
  {
   "cell_type": "markdown",
   "metadata": {},
   "source": [
    "28. Write a NumPy program to get the powers of an array values element-wise"
   ]
  },
  {
   "cell_type": "code",
   "execution_count": 104,
   "metadata": {},
   "outputs": [
    {
     "name": "stdout",
     "output_type": "stream",
     "text": [
      "Original array\n",
      "[0 1 2 3 4 5 6]\n",
      "First array elements raised to powers from second array, element-wise:\n",
      "[  0   1   8  27  64 125 216]\n"
     ]
    }
   ],
   "source": [
    "x = np.arange(7)\n",
    "print(\"Original array\")\n",
    "print(x)\n",
    "print(\"First array elements raised to powers from second array, element-wise:\")\n",
    "print(np.power(x, 3))"
   ]
  },
  {
   "cell_type": "markdown",
   "metadata": {},
   "source": [
    "29. How to round away from zero a float array ?"
   ]
  },
  {
   "cell_type": "code",
   "execution_count": 105,
   "metadata": {},
   "outputs": [
    {
     "name": "stdout",
     "output_type": "stream",
     "text": [
      "[1. 2. 2.]\n",
      "[0.3 0.5 0.6]\n",
      "[0. 2. 2. 4. 4.]\n"
     ]
    }
   ],
   "source": [
    "x = np.round([1.45, 1.50, 1.55])\n",
    "print(x)\n",
    "x = np.round([0.28, .50, .64], decimals=1)\n",
    "print(x)\n",
    "x = np.round([.5, 1.5, 2.5, 3.5, 4.5]) # rounds to nearest even value\n",
    "print(x)"
   ]
  },
  {
   "cell_type": "markdown",
   "metadata": {},
   "source": [
    "30. How to find common values between two arrays?"
   ]
  },
  {
   "cell_type": "code",
   "execution_count": 106,
   "metadata": {},
   "outputs": [
    {
     "name": "stdout",
     "output_type": "stream",
     "text": [
      "Array1:  [ 0 10 20 40 60]\n",
      "Array2:  [10, 30, 40]\n",
      "Common values between two arrays:\n",
      "[10 40]\n"
     ]
    }
   ],
   "source": [
    "array1 = np.array([0, 10, 20, 40, 60])\n",
    "print(\"Array1: \",array1)\n",
    "array2 = [10, 30, 40]\n",
    "print(\"Array2: \",array2)\n",
    "print(\"Common values between two arrays:\")\n",
    "print(np.intersect1d(array1, array2))"
   ]
  },
  {
   "cell_type": "markdown",
   "metadata": {},
   "source": [
    "31. Write a NumPy program to get the largest integer smaller or equal to the division of the inputs"
   ]
  },
  {
   "cell_type": "code",
   "execution_count": 107,
   "metadata": {},
   "outputs": [
    {
     "name": "stdout",
     "output_type": "stream",
     "text": [
      "Original array:\n",
      "[1.0, 2.0, 3.0, 4.0]\n",
      "Largest integer smaller or equal to the division of the inputs:\n",
      "[0. 1. 2. 2.]\n"
     ]
    }
   ],
   "source": [
    "x = [1., 2., 3., 4.]\n",
    "print(\"Original array:\")\n",
    "print(x)\n",
    "print(\"Largest integer smaller or equal to the division of the inputs:\")\n",
    "print(np.floor_divide(x, 1.5))"
   ]
  },
  {
   "cell_type": "markdown",
   "metadata": {},
   "source": [
    "32. Is the following expressions true? "
   ]
  },
  {
   "cell_type": "code",
   "execution_count": null,
   "metadata": {},
   "outputs": [],
   "source": []
  },
  {
   "cell_type": "markdown",
   "metadata": {},
   "source": [
    "33. How to get the dates of yesterday, today and tomorrow?"
   ]
  },
  {
   "cell_type": "code",
   "execution_count": 109,
   "metadata": {},
   "outputs": [
    {
     "name": "stdout",
     "output_type": "stream",
     "text": [
      "Yesterday:  2020-12-17\n",
      "Today:  2020-12-18\n",
      "Tomorrow:  2020-12-19\n"
     ]
    }
   ],
   "source": [
    "yesterday = np.datetime64('today', 'D') - np.timedelta64(1, 'D')\n",
    "print(\"Yesterday: \",yesterday)\n",
    "today     = np.datetime64('today', 'D')\n",
    "print(\"Today: \",today)\n",
    "tomorrow  = np.datetime64('today', 'D') + np.timedelta64(1, 'D')\n",
    "print(\"Tomorrow: \",tomorrow)"
   ]
  },
  {
   "cell_type": "markdown",
   "metadata": {},
   "source": [
    "34. How to get all the dates corresponding to the month of July 2016?"
   ]
  },
  {
   "cell_type": "code",
   "execution_count": 110,
   "metadata": {},
   "outputs": [
    {
     "name": "stdout",
     "output_type": "stream",
     "text": [
      "July, 2016\n",
      "['2016-07-01' '2016-07-02' '2016-07-03' '2016-07-04' '2016-07-05'\n",
      " '2016-07-06' '2016-07-07' '2016-07-08' '2016-07-09' '2016-07-10'\n",
      " '2016-07-11' '2016-07-12' '2016-07-13' '2016-07-14' '2016-07-15'\n",
      " '2016-07-16' '2016-07-17' '2016-07-18' '2016-07-19' '2016-07-20'\n",
      " '2016-07-21' '2016-07-22' '2016-07-23' '2016-07-24' '2016-07-25'\n",
      " '2016-07-26' '2016-07-27' '2016-07-28' '2016-07-29' '2016-07-30'\n",
      " '2016-07-31']\n"
     ]
    }
   ],
   "source": [
    "print(\"July, 2016\")\n",
    "print(np.arange('2016-07', '2016-08', dtype='datetime64[D]'))"
   ]
  },
  {
   "cell_type": "markdown",
   "metadata": {},
   "source": [
    "35. How to compute ((A+B)*(-A/2)) in place (without copy)?"
   ]
  },
  {
   "cell_type": "code",
   "execution_count": 111,
   "metadata": {
    "scrolled": true
   },
   "outputs": [
    {
     "data": {
      "text/plain": [
       "array([0.5, 0.5, 0.5])"
      ]
     },
     "execution_count": 111,
     "metadata": {},
     "output_type": "execute_result"
    }
   ],
   "source": [
    "A = np.ones(3)*1\n",
    "\n",
    "B = np.ones(3)*2\n",
    "\n",
    "C = np.ones(3)*3\n",
    "\n",
    "np.add(A,B,out=B)\n",
    "\n",
    "np.divide(A,2,out=A)"
   ]
  },
  {
   "cell_type": "markdown",
   "metadata": {},
   "source": [
    "36. Extract the integer part of a random array using 5 different methods"
   ]
  },
  {
   "cell_type": "code",
   "execution_count": 114,
   "metadata": {},
   "outputs": [
    {
     "name": "stdout",
     "output_type": "stream",
     "text": [
      "[5. 6. 8. 9. 6. 8. 9. 2. 2. 3.]\n",
      "[5. 6. 8. 9. 6. 8. 9. 2. 2. 3.]\n",
      "[5. 6. 8. 9. 6. 8. 9. 2. 2. 3.]\n",
      "[5 6 8 9 6 8 9 2 2 3]\n"
     ]
    }
   ],
   "source": [
    "Z = np.random.uniform(0,10,10)\n",
    "\n",
    "print (Z - Z%1)\n",
    "\n",
    "print (np.floor(Z))\n",
    "\n",
    "print (np.ceil(Z)-1)\n",
    "\n",
    "print (Z.astype(int))"
   ]
  },
  {
   "cell_type": "markdown",
   "metadata": {},
   "source": [
    "37. Create a 5x5 matrix with row values ranging from 0 to 4"
   ]
  },
  {
   "cell_type": "code",
   "execution_count": 120,
   "metadata": {},
   "outputs": [
    {
     "name": "stdout",
     "output_type": "stream",
     "text": [
      "[[0. 1. 2. 3. 4.]\n",
      " [0. 1. 2. 3. 4.]\n",
      " [0. 1. 2. 3. 4.]\n",
      " [0. 1. 2. 3. 4.]\n",
      " [0. 1. 2. 3. 4.]]\n"
     ]
    }
   ],
   "source": [
    "Z = np.zeros((5,5))\n",
    "\n",
    "Z += np.arange(5)\n",
    "\n",
    "print(Z)"
   ]
  },
  {
   "cell_type": "markdown",
   "metadata": {},
   "source": [
    "38. Consider a generator function that generates 10 integers and use it to build an array"
   ]
  },
  {
   "cell_type": "code",
   "execution_count": 125,
   "metadata": {},
   "outputs": [
    {
     "name": "stdout",
     "output_type": "stream",
     "text": [
      "[0. 1. 2. 3. 4. 5. 6. 7. 8. 9.]\n"
     ]
    }
   ],
   "source": [
    "def generate():\n",
    "\n",
    "    for x in range(10):\n",
    "\n",
    "        yield x\n",
    "\n",
    "Z = np.fromiter(generate(),dtype=float,count=-1)\n",
    "\n",
    "print(Z)"
   ]
  },
  {
   "cell_type": "markdown",
   "metadata": {},
   "source": [
    "39. Create a vector of size 10 with values ranging from 0 to 1, both excluded"
   ]
  },
  {
   "cell_type": "code",
   "execution_count": 126,
   "metadata": {},
   "outputs": [
    {
     "name": "stdout",
     "output_type": "stream",
     "text": [
      "[0.09090909 0.18181818 0.27272727 0.36363636 0.45454545 0.54545455\n",
      " 0.63636364 0.72727273 0.81818182 0.90909091]\n"
     ]
    }
   ],
   "source": [
    "Z = np.linspace(0,1,12,endpoint=True)[1:-1]\n",
    "\n",
    "print(Z)"
   ]
  },
  {
   "cell_type": "markdown",
   "metadata": {},
   "source": [
    "40. Create a random vector of size 10 and sort it"
   ]
  },
  {
   "cell_type": "code",
   "execution_count": 132,
   "metadata": {},
   "outputs": [
    {
     "name": "stdout",
     "output_type": "stream",
     "text": [
      "[0.02988904 0.2285731  0.27727165 0.49409921 0.50898213 0.58503551\n",
      " 0.77535291 0.83066601 0.86529308 0.98950481]\n"
     ]
    }
   ],
   "source": [
    "R = np.random.random(10)\n",
    "\n",
    "R.sort()\n",
    "print(R)\n"
   ]
  },
  {
   "cell_type": "markdown",
   "metadata": {},
   "source": [
    "41. How to sum a small array faster than np.sum?"
   ]
  },
  {
   "cell_type": "code",
   "execution_count": 133,
   "metadata": {},
   "outputs": [
    {
     "data": {
      "text/plain": [
       "45"
      ]
     },
     "execution_count": 133,
     "metadata": {},
     "output_type": "execute_result"
    }
   ],
   "source": [
    "Z = np.arange(10)\n",
    "\n",
    "np.add.reduce(Z)"
   ]
  },
  {
   "cell_type": "markdown",
   "metadata": {},
   "source": [
    "42. Consider two random array A and B, check if they are equal"
   ]
  },
  {
   "cell_type": "code",
   "execution_count": 137,
   "metadata": {},
   "outputs": [
    {
     "name": "stdout",
     "output_type": "stream",
     "text": [
      "False\n",
      "False\n"
     ]
    }
   ],
   "source": [
    "A = np.random.randint(0,2,5)\n",
    "\n",
    "B = np.random.randint(0,2,5)\n",
    "\n",
    "equal = np.allclose(A,B)\n",
    "\n",
    "print(equal)\n",
    "\n",
    "equal = np.array_equal(A,B)\n",
    "\n",
    "print(equal)"
   ]
  },
  {
   "cell_type": "markdown",
   "metadata": {},
   "source": [
    "43. Write a NumPy program to get true division of the element-wise array inputs."
   ]
  },
  {
   "cell_type": "code",
   "execution_count": null,
   "metadata": {},
   "outputs": [],
   "source": []
  },
  {
   "cell_type": "markdown",
   "metadata": {},
   "source": [
    "44. Consider a random 10x2 matrix representing cartesian coordinates, convert them to polar coordinates"
   ]
  },
  {
   "cell_type": "code",
   "execution_count": 138,
   "metadata": {},
   "outputs": [
    {
     "name": "stdout",
     "output_type": "stream",
     "text": [
      "[1.0116166  1.0043861  1.10984418 0.61623875 1.20630127 0.88669915\n",
      " 0.60981926 0.67181713 1.11921705 0.97651445]\n",
      "[1.37896735 0.10818419 0.86794468 0.86606481 0.87366396 1.45804466\n",
      " 1.29004957 0.31934796 0.65980362 1.25882417]\n"
     ]
    }
   ],
   "source": [
    "Z = np.random.random((10,2))\n",
    "\n",
    "X,Y = Z[:,0], Z[:,1]\n",
    "\n",
    "R = np.sqrt(X**2+Y**2)\n",
    "\n",
    "T = np.arctan2(Y,X)\n",
    "\n",
    "print(R)\n",
    "\n",
    "print(T)"
   ]
  },
  {
   "cell_type": "markdown",
   "metadata": {},
   "source": [
    "45. Create random vector of size 10 and replace the maximum value by 0"
   ]
  },
  {
   "cell_type": "code",
   "execution_count": 139,
   "metadata": {},
   "outputs": [
    {
     "name": "stdout",
     "output_type": "stream",
     "text": [
      "[0.02124051 0.41329998 0.12355421 0.41865797 0.51408949 0.12242447\n",
      " 0.14165205 0.76953315 0.33919306 0.        ]\n"
     ]
    }
   ],
   "source": [
    "Z = np.random.random(10)\n",
    "\n",
    "Z[Z.argmax()] = 0\n",
    "\n",
    "print(Z)"
   ]
  },
  {
   "cell_type": "markdown",
   "metadata": {},
   "source": [
    "46. Create a structured array with x and y coordinates covering the [0,1]x[0,1] area"
   ]
  },
  {
   "cell_type": "code",
   "execution_count": 140,
   "metadata": {},
   "outputs": [
    {
     "name": "stdout",
     "output_type": "stream",
     "text": [
      "[[(0.  , 0.  ) (0.25, 0.  ) (0.5 , 0.  ) (0.75, 0.  ) (1.  , 0.  )]\n",
      " [(0.  , 0.25) (0.25, 0.25) (0.5 , 0.25) (0.75, 0.25) (1.  , 0.25)]\n",
      " [(0.  , 0.5 ) (0.25, 0.5 ) (0.5 , 0.5 ) (0.75, 0.5 ) (1.  , 0.5 )]\n",
      " [(0.  , 0.75) (0.25, 0.75) (0.5 , 0.75) (0.75, 0.75) (1.  , 0.75)]\n",
      " [(0.  , 1.  ) (0.25, 1.  ) (0.5 , 1.  ) (0.75, 1.  ) (1.  , 1.  )]]\n"
     ]
    }
   ],
   "source": [
    "Z = np.zeros((5,5), [('x',float),('y',float)])\n",
    "\n",
    "Z['x'], Z['y'] = np.meshgrid(np.linspace(0,1,5),\n",
    "\n",
    "np.linspace(0,1,5))\n",
    "\n",
    "print(Z)"
   ]
  },
  {
   "cell_type": "markdown",
   "metadata": {},
   "source": [
    "47. Given two arrays, X and Y, construct the Cauchy matrix C (Cij =1/(xi - yj))\n"
   ]
  },
  {
   "cell_type": "code",
   "execution_count": 141,
   "metadata": {},
   "outputs": [
    {
     "name": "stdout",
     "output_type": "stream",
     "text": [
      "3638.163637117973\n"
     ]
    }
   ],
   "source": [
    "X = np.arange(8)\n",
    "\n",
    "Y = X + 0.5\n",
    "\n",
    "C = 1.0 / np.subtract.outer(X, Y)\n",
    "\n",
    "print(np.linalg.det(C))"
   ]
  },
  {
   "cell_type": "markdown",
   "metadata": {},
   "source": [
    "48. Print the minimum and maximum representable value for each numpy scalar type"
   ]
  },
  {
   "cell_type": "code",
   "execution_count": 146,
   "metadata": {},
   "outputs": [
    {
     "name": "stdout",
     "output_type": "stream",
     "text": [
      "-128\n",
      "127\n",
      "-2147483648\n",
      "2147483647\n",
      "-9223372036854775808\n",
      "9223372036854775807\n",
      "-3.4028235e+38\n",
      "3.4028235e+38\n",
      "1.1920929e-07\n",
      "-1.7976931348623157e+308\n",
      "1.7976931348623157e+308\n",
      "2.220446049250313e-16\n"
     ]
    }
   ],
   "source": [
    "for dtype in [np.int8, np.int32, np.int64]:\n",
    "\n",
    "    print(np.iinfo(dtype).min)\n",
    "\n",
    "    print(np.iinfo(dtype).max)\n",
    "\n",
    "\n",
    "for dtype in [np.float32, np.float64]:\n",
    "\n",
    "            print(np.finfo(dtype).min)\n",
    "\n",
    "            print(np.finfo(dtype).max)\n",
    "\n",
    "            print(np.finfo(dtype).eps)"
   ]
  },
  {
   "cell_type": "markdown",
   "metadata": {},
   "source": [
    "49. Write a NumPy program to add, subtract, multiply, divide arguments element-wise.\n",
    "Sample elements: 4.0, 1.2"
   ]
  },
  {
   "cell_type": "code",
   "execution_count": 147,
   "metadata": {},
   "outputs": [
    {
     "name": "stdout",
     "output_type": "stream",
     "text": [
      "Add:\n",
      "5.0\n",
      "Subtract:\n",
      "-3.0\n",
      "Multiply:\n",
      "4.0\n",
      "Divide:\n",
      "0.25\n"
     ]
    }
   ],
   "source": [
    "import numpy as np\n",
    "print(\"Add:\")\n",
    "print(np.add(1.0, 4.0))\n",
    "print(\"Subtract:\")\n",
    "print(np.subtract(1.0, 4.0))\n",
    "print(\"Multiply:\")\n",
    "print(np.multiply(1.0, 4.0))\n",
    "print(\"Divide:\")\n",
    "print(np.divide(1.0, 4.0))\n"
   ]
  },
  {
   "cell_type": "markdown",
   "metadata": {},
   "source": [
    "50. How to find the closest value (to a given scalar) in a vector?"
   ]
  },
  {
   "cell_type": "code",
   "execution_count": 148,
   "metadata": {},
   "outputs": [
    {
     "name": "stdout",
     "output_type": "stream",
     "text": [
      "12\n"
     ]
    }
   ],
   "source": [
    "Z = np.arange(100)\n",
    "\n",
    "v = np.random.uniform(0,100)\n",
    "\n",
    "index = (np.abs(Z-v)).argmin()\n",
    "\n",
    "print(Z[index])"
   ]
  },
  {
   "cell_type": "markdown",
   "metadata": {},
   "source": [
    "51. Write a NumPy program to generate a matrix product of two arrays."
   ]
  },
  {
   "cell_type": "code",
   "execution_count": 149,
   "metadata": {},
   "outputs": [
    {
     "name": "stdout",
     "output_type": "stream",
     "text": [
      "Matrices and vectors.\n",
      "x:\n",
      "[[1, 0], [1, 1]]\n",
      "y:\n",
      "[[3, 1], [2, 2]]\n",
      "Matrix product of above two arrays:\n",
      "[[3 1]\n",
      " [5 3]]\n"
     ]
    }
   ],
   "source": [
    "x = [[1, 0], [1, 1]]\n",
    "y = [[3, 1], [2, 2]]\n",
    "print(\"Matrices and vectors.\")\n",
    "print(\"x:\")\n",
    "print(x)\n",
    "print(\"y:\")\n",
    "print(y)\n",
    "print(\"Matrix product of above two arrays:\")\n",
    "print(np.matmul(x, y))"
   ]
  },
  {
   "cell_type": "markdown",
   "metadata": {},
   "source": [
    "52.Write a NumPy program to find the roots of the following polynomials.\n",
    "a) x2 − 4x + 7.\n",
    "b) x4 − 11x3 + 9x2 + 11x – 10"
   ]
  },
  {
   "cell_type": "code",
   "execution_count": 150,
   "metadata": {},
   "outputs": [
    {
     "name": "stdout",
     "output_type": "stream",
     "text": [
      "Roots of the first polynomial:\n",
      "[1. 1.]\n",
      "Roots of the second polynomial:\n",
      "[11.04461946+0.j        -0.8711421 +0.j         0.91326132+0.4531004j\n",
      "  0.91326132-0.4531004j]\n"
     ]
    }
   ],
   "source": [
    "print(\"Roots of the first polynomial:\")\n",
    "print(np.roots([1, -2, 1]))\n",
    "print(\"Roots of the second polynomial:\")\n",
    "print(np.roots([1, -12, 10, 7, -10]))"
   ]
  },
  {
   "cell_type": "markdown",
   "metadata": {},
   "source": [
    "53.  Write a NumPy program to convert an array to a float type."
   ]
  },
  {
   "cell_type": "code",
   "execution_count": 151,
   "metadata": {},
   "outputs": [
    {
     "name": "stdout",
     "output_type": "stream",
     "text": [
      "Original array\n",
      "[1, 2, 3, 4]\n",
      "Array converted to a float type:\n",
      "[1. 2. 3. 4.]\n"
     ]
    }
   ],
   "source": [
    "a = [1, 2, 3, 4]\n",
    "print(\"Original array\")\n",
    "print(a)\n",
    "x = np.asfarray(a)\n",
    "print(\"Array converted to a float type:\")\n",
    "print(x)"
   ]
  },
  {
   "cell_type": "markdown",
   "metadata": {},
   "source": [
    "54. Write a NumPy program to find the real and imaginary parts of an array of complex numbers."
   ]
  },
  {
   "cell_type": "code",
   "execution_count": 152,
   "metadata": {},
   "outputs": [
    {
     "name": "stdout",
     "output_type": "stream",
     "text": [
      "Original array:x  [1.+0.j]\n",
      "Original array:y  [0.70710678+0.70710678j]\n",
      "Real part of the array:\n",
      "[1.]\n",
      "[0.70710678]\n",
      "Imaginary part of the array:\n",
      "[0.]\n",
      "[0.70710678]\n"
     ]
    }
   ],
   "source": [
    "x = np.sqrt([1+0j])\n",
    "y = np.sqrt([0+1j])\n",
    "print(\"Original array:x \",x)\n",
    "print(\"Original array:y \",y)\n",
    "print(\"Real part of the array:\")\n",
    "print(x.real)\n",
    "print(y.real)\n",
    "print(\"Imaginary part of the array:\")\n",
    "print(x.imag)\n",
    "print(y.imag)\n"
   ]
  },
  {
   "cell_type": "markdown",
   "metadata": {},
   "source": [
    "56. Write a NumPy program to test whether each element of a 1-D array is also present in a second array."
   ]
  },
  {
   "cell_type": "code",
   "execution_count": 153,
   "metadata": {},
   "outputs": [
    {
     "name": "stdout",
     "output_type": "stream",
     "text": [
      "Array1:  [ 0 10 20 40 60]\n",
      "Array2:  [0, 40]\n",
      "Compare each element of array1 and array2\n",
      "[ True False False  True False]\n"
     ]
    }
   ],
   "source": [
    "array1 = np.array([0, 10, 20, 40, 60])\n",
    "print(\"Array1: \",array1)\n",
    "array2 = [0, 40]\n",
    "print(\"Array2: \",array2)\n",
    "print(\"Compare each element of array1 and array2\")\n",
    "print(np.in1d(array1, array2))"
   ]
  },
  {
   "cell_type": "markdown",
   "metadata": {},
   "source": [
    "57. Write a NumPy program to find common values between two arrays."
   ]
  },
  {
   "cell_type": "code",
   "execution_count": 154,
   "metadata": {},
   "outputs": [
    {
     "name": "stdout",
     "output_type": "stream",
     "text": [
      "Array1:  [ 0 10 20 40 60]\n",
      "Array2:  [10, 30, 40]\n",
      "Common values between two arrays:\n",
      "[10 40]\n"
     ]
    }
   ],
   "source": [
    "array1 = np.array([0, 10, 20, 40, 60])\n",
    "print(\"Array1: \",array1)\n",
    "array2 = [10, 30, 40]\n",
    "print(\"Array2: \",array2)\n",
    "print(\"Common values between two arrays:\")\n",
    "print(np.intersect1d(array1, array2))\n"
   ]
  },
  {
   "cell_type": "markdown",
   "metadata": {},
   "source": [
    "58. Write a NumPy program to find the set difference of two arrays. The set difference will return the sorted, unique values in array1 that are not in array2."
   ]
  },
  {
   "cell_type": "code",
   "execution_count": 155,
   "metadata": {},
   "outputs": [
    {
     "name": "stdout",
     "output_type": "stream",
     "text": [
      "Array1:  [ 0 10 20 40 60 80]\n",
      "Array2:  [10, 30, 40, 50, 70]\n",
      "Unique values in array1 that are not in array2:\n",
      "[ 0 20 60 80]\n"
     ]
    }
   ],
   "source": [
    "array1 = np.array([0, 10, 20, 40, 60, 80])\n",
    "print(\"Array1: \",array1)\n",
    "array2 = [10, 30, 40, 50, 70]\n",
    "print(\"Array2: \",array2)\n",
    "print(\"Unique values in array1 that are not in array2:\")\n",
    "print(np.setdiff1d(array1, array2))"
   ]
  },
  {
   "cell_type": "markdown",
   "metadata": {},
   "source": [
    "59.Write a NumPy program to find the union of two arrays. Union will return the unique, sorted array of values that are in either of the two input arrays."
   ]
  },
  {
   "cell_type": "code",
   "execution_count": 156,
   "metadata": {},
   "outputs": [
    {
     "name": "stdout",
     "output_type": "stream",
     "text": [
      "Array1:  [ 0 10 20 40 60 80]\n",
      "Array2:  [10, 30, 40, 50, 70]\n",
      "Unique sorted array of values that are in either of the two input arrays:\n",
      "[ 0 10 20 30 40 50 60 70 80]\n"
     ]
    }
   ],
   "source": [
    "array1 = np.array([0, 10, 20, 40, 60, 80])\n",
    "print(\"Array1: \",array1)\n",
    "array2 = [10, 30, 40, 50, 70]\n",
    "print(\"Array2: \",array2)\n",
    "print(\"Unique sorted array of values that are in either of the two input arrays:\")\n",
    "print(np.union1d(array1, array2))"
   ]
  },
  {
   "cell_type": "markdown",
   "metadata": {},
   "source": [
    "60. Write a NumPy program to test whether all elements in an array evaluate to True.\n",
    "Note: 0 evaluates to False in python"
   ]
  },
  {
   "cell_type": "code",
   "execution_count": 157,
   "metadata": {},
   "outputs": [
    {
     "name": "stdout",
     "output_type": "stream",
     "text": [
      "False\n",
      "True\n",
      "False\n",
      "True\n"
     ]
    }
   ],
   "source": [
    "print(np.all([[True,False],[True,True]]))\n",
    "print(np.all([[True,True],[True,True]]))\n",
    "print(np.all([10, 20, 0, -50]))\n",
    "print(np.all([10, 20, -50]))"
   ]
  },
  {
   "cell_type": "markdown",
   "metadata": {},
   "source": [
    "61. Write a NumPy program to get the values and indices of the elements that are bigger than 10 in a given array."
   ]
  },
  {
   "cell_type": "code",
   "execution_count": 158,
   "metadata": {},
   "outputs": [
    {
     "name": "stdout",
     "output_type": "stream",
     "text": [
      "Original array: \n",
      "[[ 0 10 20]\n",
      " [20 30 40]]\n",
      "Values bigger than 10 = [20 20 30 40]\n",
      "Their indices are  (array([0, 1, 1, 1], dtype=int64), array([2, 0, 1, 2], dtype=int64))\n"
     ]
    }
   ],
   "source": [
    "x = np.array([[0, 10, 20], [20, 30, 40]])\n",
    "print(\"Original array: \")\n",
    "print(x)\n",
    "print(\"Values bigger than 10 =\", x[x>10])\n",
    "print(\"Their indices are \", np.nonzero(x > 10))"
   ]
  },
  {
   "cell_type": "markdown",
   "metadata": {},
   "source": [
    "62. Write a NumPy program to save a NumPy array to a text file."
   ]
  },
  {
   "cell_type": "code",
   "execution_count": 160,
   "metadata": {},
   "outputs": [],
   "source": [
    "a = np.arange(1.0, 2.0, 36.2)\n",
    "np.savetxt('file.out', a, delimiter=',')"
   ]
  },
  {
   "cell_type": "markdown",
   "metadata": {},
   "source": [
    "63.Write a NumPy program to create a contiguous flattened array."
   ]
  },
  {
   "cell_type": "code",
   "execution_count": 161,
   "metadata": {},
   "outputs": [
    {
     "name": "stdout",
     "output_type": "stream",
     "text": [
      "Original array:\n",
      "[[10 20 30]\n",
      " [20 40 50]]\n",
      "New flattened array:\n",
      "[10 20 30 20 40 50]\n"
     ]
    }
   ],
   "source": [
    "x = np.array([[10, 20, 30], [20, 40, 50]])\n",
    "print(\"Original array:\")\n",
    "print(x)\n",
    "y = np.ravel(x)\n",
    "print(\"New flattened array:\")\n",
    "print(y)"
   ]
  },
  {
   "cell_type": "markdown",
   "metadata": {},
   "source": [
    "64. Write a NumPy program to change the data type of an array. "
   ]
  },
  {
   "cell_type": "code",
   "execution_count": 162,
   "metadata": {},
   "outputs": [
    {
     "name": "stdout",
     "output_type": "stream",
     "text": [
      "[[ 2  4  6]\n",
      " [ 6  8 10]]\n",
      "Data type of the array x is: int32\n",
      "New Type:  float64\n",
      "[[ 2.  4.  6.]\n",
      " [ 6.  8. 10.]]\n"
     ]
    }
   ],
   "source": [
    "import numpy as np\n",
    "x = np.array([[2, 4, 6], [6, 8, 10]], np.int32)\n",
    "print(x)\n",
    "print(\"Data type of the array x is:\",x.dtype)\n",
    "# Change the data type of x\n",
    "y = x.astype(float)\n",
    "print(\"New Type: \",y.dtype)\n",
    "print(y)\n"
   ]
  },
  {
   "cell_type": "markdown",
   "metadata": {},
   "source": [
    "65. Write a NumPy program to create a 3-D array with ones on a diagonal and zeros elsewhere."
   ]
  },
  {
   "cell_type": "code",
   "execution_count": 163,
   "metadata": {},
   "outputs": [
    {
     "name": "stdout",
     "output_type": "stream",
     "text": [
      "[[1. 0. 0.]\n",
      " [0. 1. 0.]\n",
      " [0. 0. 1.]]\n"
     ]
    }
   ],
   "source": [
    "x = np.eye(3)\n",
    "print(x)"
   ]
  },
  {
   "cell_type": "markdown",
   "metadata": {},
   "source": [
    "66.  Write a NumPy program to generate six random integers between 10 and 30"
   ]
  },
  {
   "cell_type": "code",
   "execution_count": 164,
   "metadata": {},
   "outputs": [
    {
     "name": "stdout",
     "output_type": "stream",
     "text": [
      "[19 22 14 12 10 22]\n"
     ]
    }
   ],
   "source": [
    "x = np.random.randint(low=10, high=30, size=6)\n",
    "print(x)"
   ]
  },
  {
   "cell_type": "markdown",
   "metadata": {},
   "source": [
    "67.  Write a NumPy program to check two random arrays are equal or not."
   ]
  },
  {
   "cell_type": "code",
   "execution_count": 165,
   "metadata": {},
   "outputs": [
    {
     "name": "stdout",
     "output_type": "stream",
     "text": [
      "First array:\n",
      "[0 1 0 0 1 0]\n",
      "Second array:\n",
      "[1 1 1 1 0 0]\n",
      "Test above two arrays are equal or not!\n",
      "False\n"
     ]
    }
   ],
   "source": [
    "import numpy as np\n",
    "x = np.random.randint(0,2,6)\n",
    "print(\"First array:\")\n",
    "print(x)\n",
    "y = np.random.randint(0,2,6)\n",
    "print(\"Second array:\")\n",
    "print(y)\n",
    "print(\"Test above two arrays are equal or not!\")\n",
    "array_equal = np.allclose(x, y)\n",
    "print(array_equal)\n"
   ]
  },
  {
   "cell_type": "markdown",
   "metadata": {},
   "source": [
    "68. Write a NumPy program to find the most frequent value in an array."
   ]
  },
  {
   "cell_type": "code",
   "execution_count": 166,
   "metadata": {},
   "outputs": [
    {
     "name": "stdout",
     "output_type": "stream",
     "text": [
      "Original array:\n",
      "[7 2 3 4 8 5 4 0 9 3 5 8 9 2 4 2 7 7 6 7 0 8 8 0 8 4 5 8 5 8 7 0 7 3 2 0 5\n",
      " 4 2 8]\n",
      "Most frequent value in the above array:\n",
      "8\n"
     ]
    }
   ],
   "source": [
    "x = np.random.randint(0, 10, 40)\n",
    "print(\"Original array:\")\n",
    "print(x)\n",
    "print(\"Most frequent value in the above array:\")\n",
    "print(np.bincount(x).argmax())"
   ]
  },
  {
   "cell_type": "markdown",
   "metadata": {},
   "source": [
    "69. Write a NumPy program to get the n largest values of an array."
   ]
  },
  {
   "cell_type": "code",
   "execution_count": 167,
   "metadata": {},
   "outputs": [
    {
     "name": "stdout",
     "output_type": "stream",
     "text": [
      "Original array:\n",
      "[0 1 2 3 4 5 6 7 8 9]\n",
      "[9]\n"
     ]
    }
   ],
   "source": [
    "x = np.arange(10)\n",
    "print(\"Original array:\")\n",
    "print(x)\n",
    "np.random.shuffle(x)\n",
    "n = 1\n",
    "print (x[np.argsort(x)[-n:]])"
   ]
  },
  {
   "cell_type": "markdown",
   "metadata": {},
   "source": [
    "70. Write a NumPy program to shuffle numbers between 0 and 10"
   ]
  },
  {
   "cell_type": "code",
   "execution_count": 168,
   "metadata": {},
   "outputs": [
    {
     "name": "stdout",
     "output_type": "stream",
     "text": [
      "[9 1 5 7 6 0 8 3 4 2]\n",
      "Same result using permutation():\n",
      "[7 9 6 5 3 2 8 0 4 1]\n"
     ]
    }
   ],
   "source": [
    "import numpy as np\n",
    "x = np.arange(10)\n",
    "np.random.shuffle(x)\n",
    "print(x)\n",
    "print(\"Same result using permutation():\")\n",
    "print(np.random.permutation(10))"
   ]
  },
  {
   "cell_type": "markdown",
   "metadata": {},
   "source": [
    "71. Write a NumPy program to sort a given array of shape 2 along the first axis, last axis and on flattened array."
   ]
  },
  {
   "cell_type": "code",
   "execution_count": 169,
   "metadata": {},
   "outputs": [
    {
     "name": "stdout",
     "output_type": "stream",
     "text": [
      "Original array:\n",
      "[[10 40]\n",
      " [30 20]]\n",
      "Sort the array along the first axis:\n",
      "[[10 20]\n",
      " [30 40]]\n",
      "Sort the array along the last axis:\n",
      "[[10 40]\n",
      " [20 30]]\n",
      "Sort the flattened array:\n",
      "[10 20 30 40]\n"
     ]
    }
   ],
   "source": [
    "a = np.array([[10,40],[30,20]])\n",
    "print(\"Original array:\")\n",
    "print(a)\n",
    "print(\"Sort the array along the first axis:\")\n",
    "print(np.sort(a, axis=0))\n",
    "print(\"Sort the array along the last axis:\")\n",
    "print(np.sort(a))\n",
    "print(\"Sort the flattened array:\")\n",
    "print(np.sort(a, axis=None))"
   ]
  },
  {
   "cell_type": "markdown",
   "metadata": {},
   "source": [
    "72. Write a NumPy program to create a structured array from given student name, height, class and their data types. Now sort the array on height."
   ]
  },
  {
   "cell_type": "code",
   "execution_count": 170,
   "metadata": {},
   "outputs": [
    {
     "name": "stdout",
     "output_type": "stream",
     "text": [
      "Original array:\n",
      "[(b'James', 5, 48.5 ) (b'Nail', 6, 52.5 ) (b'Paul', 5, 42.1 )\n",
      " (b'Pit', 5, 40.11)]\n",
      "Sort by height\n",
      "[(b'Pit', 5, 40.11) (b'Paul', 5, 42.1 ) (b'James', 5, 48.5 )\n",
      " (b'Nail', 6, 52.5 )]\n"
     ]
    }
   ],
   "source": [
    "data_type = [('name', 'S15'), ('class', int), ('height', float)]\n",
    "students_details = [('James', 5, 48.5), ('Nail', 6, 52.5),('Paul', 5, 42.10), ('Pit', 5, 40.11)]\n",
    "# create a structured array\n",
    "students = np.array(students_details, dtype=data_type)   \n",
    "print(\"Original array:\")\n",
    "print(students)\n",
    "print(\"Sort by height\")\n",
    "print(np.sort(students, order='height'))    "
   ]
  },
  {
   "cell_type": "markdown",
   "metadata": {},
   "source": [
    "73.  Write a NumPy program to create a structured array from given student name, height, class and their data types. Now sort by class, then height if class are equal"
   ]
  },
  {
   "cell_type": "code",
   "execution_count": 173,
   "metadata": {},
   "outputs": [
    {
     "name": "stdout",
     "output_type": "stream",
     "text": [
      "[(b'James', 5, 48.5 ) (b'Paul', 5, 42.1 ) (b'Pit', 5, 40.11)\n",
      " (b'Nail', 6, 52.5 )]\n",
      "[(b'Pit', 5, 40.11) (b'Paul', 5, 42.1 ) (b'James', 5, 48.5 )\n",
      " (b'Nail', 6, 52.5 )]\n"
     ]
    }
   ],
   "source": [
    "print(np.sort(students, order='class'))    \n",
    "print(np.sort(students, order=['class', 'height']))\n"
   ]
  },
  {
   "cell_type": "markdown",
   "metadata": {},
   "source": [
    "74. Write a NumPy program to sort the student id with increasing height of the students from given students id and height. Print the integer indices that describes the sort order by multiple columns and the sorted data."
   ]
  },
  {
   "cell_type": "code",
   "execution_count": 174,
   "metadata": {},
   "outputs": [
    {
     "name": "stdout",
     "output_type": "stream",
     "text": [
      "Sorted indices:\n",
      "[4 0 5 3 6 1 2]\n",
      "Sorted data:\n",
      "1682 38.0\n",
      "1023 40.0\n",
      "5241 40.0\n",
      "1671 41.0\n",
      "4532 42.0\n",
      "5202 42.0\n",
      "6230 45.0\n"
     ]
    }
   ],
   "source": [
    "student_id = np.array([1023, 5202, 6230, 1671, 1682, 5241, 4532])\n",
    "student_height = np.array([40., 42., 45., 41., 38., 40., 42.0])\n",
    "#Sort by studen_id then by student_height\n",
    "indices = np.lexsort((student_id, student_height))\n",
    "print(\"Sorted indices:\")\n",
    "print(indices)\n",
    "print(\"Sorted data:\")\n",
    "for n in indices:\n",
    "  print(student_id[n], student_height[n])"
   ]
  },
  {
   "cell_type": "markdown",
   "metadata": {},
   "source": [
    "75.  Write a NumPy program to get the indices of the sorted elements of a given array."
   ]
  },
  {
   "cell_type": "code",
   "execution_count": 175,
   "metadata": {},
   "outputs": [
    {
     "name": "stdout",
     "output_type": "stream",
     "text": [
      "Original array:\n",
      "[1023 5202 6230 1671 1682 5241 4532]\n",
      "Indices of the sorted elements of a given array:\n",
      "[0 3 4 6 1 5 2]\n"
     ]
    }
   ],
   "source": [
    "student_id = np.array([1023, 5202, 6230, 1671, 1682, 5241, 4532])\n",
    "print(\"Original array:\")\n",
    "print(student_id)\n",
    "i = np.argsort(student_id)\n",
    "print(\"Indices of the sorted elements of a given array:\")\n",
    "print(i)"
   ]
  },
  {
   "cell_type": "markdown",
   "metadata": {},
   "source": [
    "76. Write a NumPy program to sort a given complex array using the real part first, then the imaginary part."
   ]
  },
  {
   "cell_type": "code",
   "execution_count": 176,
   "metadata": {},
   "outputs": [
    {
     "name": "stdout",
     "output_type": "stream",
     "text": [
      "Original array:\n",
      "[(1+2j), (3-1j), (3-2j), (4-3j), (3+5j)]\n",
      "\n",
      "Sorted a given complex array using the real part first, then the imaginary part.\n",
      "[1.+2.j 3.-2.j 3.-1.j 3.+5.j 4.-3.j]\n"
     ]
    }
   ],
   "source": [
    "complex_num = [1 + 2j, 3 - 1j, 3 - 2j, 4 - 3j, 3 + 5j]\n",
    "print(\"Original array:\")\n",
    "print(complex_num)\n",
    "print(\"\\nSorted a given complex array using the real part first, then the imaginary part.\")\n",
    "print(np.sort_complex(complex_num))"
   ]
  },
  {
   "cell_type": "markdown",
   "metadata": {},
   "source": [
    "77. Write a NumPy program to partition a given array in a specified position and move all the smaller elements values to the left of the partition, and the remaining values to the right, in arbitrary order"
   ]
  },
  {
   "cell_type": "code",
   "execution_count": 177,
   "metadata": {},
   "outputs": [
    {
     "name": "stdout",
     "output_type": "stream",
     "text": [
      "Original array:\n",
      "[ 70  50  20  30 -11  60  50  40]\n",
      "\n",
      "After partitioning on 4 the position:\n",
      "[-11  30  20  40  50  50  60  70]\n"
     ]
    }
   ],
   "source": [
    "nums = np.array([70, 50, 20, 30, -11, 60, 50, 40])\n",
    "print(\"Original array:\")\n",
    "print(nums)\n",
    "print(\"\\nAfter partitioning on 4 the position:\")\n",
    "print(np.partition(nums, 4))"
   ]
  },
  {
   "cell_type": "markdown",
   "metadata": {},
   "source": [
    "78. Write a NumPy program to round array elements to the given number of decimals."
   ]
  },
  {
   "cell_type": "code",
   "execution_count": 178,
   "metadata": {},
   "outputs": [
    {
     "name": "stdout",
     "output_type": "stream",
     "text": [
      "[1. 2. 2.]\n",
      "[0.3 0.5 0.6]\n",
      "[0. 2. 2. 4. 4.]\n"
     ]
    }
   ],
   "source": [
    "x = np.round([1.45, 1.50, 1.55])\n",
    "print(x)\n",
    "x = np.round([0.28, .50, .64], decimals=1)\n",
    "print(x)\n",
    "x = np.round([.5, 1.5, 2.5, 3.5, 4.5]) # rounds to nearest even value\n",
    "print(x)"
   ]
  },
  {
   "cell_type": "markdown",
   "metadata": {},
   "source": [
    "79. Write a NumPy program to round elements of the array to the nearest integer"
   ]
  },
  {
   "cell_type": "code",
   "execution_count": 180,
   "metadata": {},
   "outputs": [
    {
     "name": "stdout",
     "output_type": "stream",
     "text": [
      "Original array:\n",
      "[-0.7 -1.5 -1.7  0.3  1.5  1.8  2. ]\n",
      "Round elements of the array to the nearest integer:\n",
      "[-1. -2. -2.  0.  2.  2.  2.]\n"
     ]
    }
   ],
   "source": [
    "x = np.array([-.7, -1.5, -1.7, 0.3, 1.5, 1.8, 2.0])\n",
    "print(\"Original array:\")\n",
    "print(x)\n",
    "x = np.rint(x)\n",
    "print(\"Round elements of the array to the nearest integer:\")\n",
    "print(x)"
   ]
  },
  {
   "cell_type": "markdown",
   "metadata": {},
   "source": [
    "80. Write a NumPy program to get the floor, ceiling and truncated values of the elements of a numpy array."
   ]
  },
  {
   "cell_type": "code",
   "execution_count": 181,
   "metadata": {},
   "outputs": [
    {
     "name": "stdout",
     "output_type": "stream",
     "text": [
      "Original array:\n",
      "[-1.6 -1.5 -0.3  0.1  1.4  1.8  2. ]\n",
      "Floor values of the above array elements:\n",
      "[-2. -2. -1.  0.  1.  1.  2.]\n",
      "Ceil values of the above array elements:\n",
      "[-1. -1. -0.  1.  2.  2.  2.]\n",
      "Truncated values of the above array elements:\n",
      "[-1. -1. -0.  0.  1.  1.  2.]\n"
     ]
    }
   ],
   "source": [
    "x = np.array([-1.6, -1.5, -0.3, 0.1, 1.4, 1.8, 2.0])\n",
    "print(\"Original array:\")\n",
    "print(x)\n",
    "print(\"Floor values of the above array elements:\")\n",
    "print(np.floor(x))\n",
    "print(\"Ceil values of the above array elements:\")\n",
    "print(np.ceil(x))\n",
    "print(\"Truncated values of the above array elements:\")\n",
    "print(np.trunc(x))"
   ]
  },
  {
   "cell_type": "markdown",
   "metadata": {},
   "source": [
    "81. Write a NumPy program to multiply a matrix by another matrix of complex numbers and create a new matrix of complex numbers"
   ]
  },
  {
   "cell_type": "code",
   "execution_count": 182,
   "metadata": {},
   "outputs": [
    {
     "name": "stdout",
     "output_type": "stream",
     "text": [
      "First array:\n",
      "[1.+2.j 3.+4.j]\n",
      "Second array:\n",
      "[5.+6.j 7.+8.j]\n",
      "Product of above two arrays:\n",
      "(70-8j)\n"
     ]
    }
   ],
   "source": [
    "x = np.array([1+2j,3+4j])\n",
    "print(\"First array:\")\n",
    "print(x)\n",
    "y = np.array([5+6j,7+8j])\n",
    "print(\"Second array:\")\n",
    "print(y)\n",
    "z = np.vdot(x, y)\n",
    "print(\"Product of above two arrays:\")\n",
    "print(z)"
   ]
  },
  {
   "cell_type": "markdown",
   "metadata": {},
   "source": [
    "82. Write a NumPy program to create an inner product of two arrays."
   ]
  },
  {
   "cell_type": "code",
   "execution_count": 184,
   "metadata": {},
   "outputs": [
    {
     "name": "stdout",
     "output_type": "stream",
     "text": [
      "Array x:\n",
      "[[[ 0  1  2  3]\n",
      "  [ 4  5  6  7]\n",
      "  [ 8  9 10 11]]\n",
      "\n",
      " [[12 13 14 15]\n",
      "  [16 17 18 19]\n",
      "  [20 21 22 23]]]\n",
      "Array y:\n",
      "[0 1 2 3]\n",
      "Inner of x and y arrays:\n",
      "[[ 14  38  62]\n",
      " [ 86 110 134]]\n"
     ]
    }
   ],
   "source": [
    "x = np.arange(24).reshape((2,3,4))\n",
    "print(\"Array x:\")\n",
    "print(x)\n",
    "print(\"Array y:\")\n",
    "y = np.arange(4)\n",
    "print(y)\n",
    "print(\"Inner of x and y arrays:\")\n",
    "print(np.inner(x, y))"
   ]
  },
  {
   "cell_type": "markdown",
   "metadata": {},
   "source": [
    "83. Write a NumPy program to generate inner, outer, and cross products of matrices and vectors."
   ]
  },
  {
   "cell_type": "code",
   "execution_count": 185,
   "metadata": {},
   "outputs": [
    {
     "name": "stdout",
     "output_type": "stream",
     "text": [
      "Matrices and vectors.\n",
      "x:\n",
      "[1. 4. 0.]\n",
      "y:\n",
      "[2. 2. 1.]\n",
      "Inner product of x and y:\n",
      "10.0\n",
      "Outer product of x and y:\n",
      "[[2. 2. 1.]\n",
      " [8. 8. 4.]\n",
      " [0. 0. 0.]]\n",
      "Cross product of x and y:\n",
      "[ 4. -1. -6.]\n"
     ]
    }
   ],
   "source": [
    "x = np.array([1, 4, 0], float)\n",
    "y = np.array([2, 2, 1], float)\n",
    "print(\"Matrices and vectors.\")\n",
    "print(\"x:\")\n",
    "print(x)\n",
    "print(\"y:\")\n",
    "print(y)\n",
    "print(\"Inner product of x and y:\")\n",
    "print(np.inner(x, y))\n",
    "print(\"Outer product of x and y:\")\n",
    "print(np.outer(x, y))\n",
    "print(\"Cross product of x and y:\")\n",
    "print(np.cross(x, y))"
   ]
  },
  {
   "cell_type": "markdown",
   "metadata": {},
   "source": [
    "84. Write a NumPy program to compute the following polynomial values."
   ]
  },
  {
   "cell_type": "code",
   "execution_count": null,
   "metadata": {},
   "outputs": [],
   "source": []
  },
  {
   "cell_type": "markdown",
   "metadata": {},
   "source": [
    "85.  Write a NumPy program to calculate mean across dimension, in a 2D numpy array."
   ]
  },
  {
   "cell_type": "code",
   "execution_count": 187,
   "metadata": {},
   "outputs": [
    {
     "name": "stdout",
     "output_type": "stream",
     "text": [
      "Original array:\n",
      "[[10 30]\n",
      " [20 60]]\n",
      "Mean of each column:\n",
      "[15. 45.]\n",
      "Mean of each row:\n",
      "[20. 40.]\n"
     ]
    }
   ],
   "source": [
    "x = np.array([[10, 30], [20, 60]])\n",
    "print(\"Original array:\")\n",
    "print(x)\n",
    "print(\"Mean of each column:\")\n",
    "print(x.mean(axis=0))\n",
    "print(\"Mean of each row:\")\n",
    "print(x.mean(axis=1))\n"
   ]
  },
  {
   "cell_type": "markdown",
   "metadata": {},
   "source": [
    "86.  Write a NumPy program to convert angles from degrees to radians for all elements in a given array."
   ]
  },
  {
   "cell_type": "code",
   "execution_count": 188,
   "metadata": {},
   "outputs": [
    {
     "name": "stdout",
     "output_type": "stream",
     "text": [
      "[-3.14159265 -1.57079633  1.57079633  3.14159265]\n"
     ]
    }
   ],
   "source": [
    "x = np.array([-180.,  -90.,   90.,  180.])\n",
    "r1 = np.radians(x)\n",
    "r2 = np.deg2rad(x)\n",
    "assert np.array_equiv(r1, r2)\n",
    "print(r1)"
   ]
  },
  {
   "cell_type": "markdown",
   "metadata": {},
   "source": [
    "87.  Write a NumPy program to concatenate element-wise two arrays of string"
   ]
  },
  {
   "cell_type": "code",
   "execution_count": 189,
   "metadata": {},
   "outputs": [
    {
     "name": "stdout",
     "output_type": "stream",
     "text": [
      "Array1:\n",
      "['Python' 'PHP']\n",
      "Array2:\n",
      "[' Java' ' C++']\n",
      "new array:\n",
      "['Python Java' 'PHP C++']\n"
     ]
    }
   ],
   "source": [
    "x1 = np.array(['Python', 'PHP'], dtype=np.str)\n",
    "x2 = np.array([' Java', ' C++'], dtype=np.str)\n",
    "print(\"Array1:\")\n",
    "print(x1)\n",
    "print(\"Array2:\")\n",
    "print(x2)\n",
    "new_array = np.char.add(x1, x2)\n",
    "print(\"new array:\")\n",
    "print(new_array)\n"
   ]
  },
  {
   "cell_type": "markdown",
   "metadata": {},
   "source": [
    "88. Write a NumPy program to repeat all the elements three times of a given array of string"
   ]
  },
  {
   "cell_type": "code",
   "execution_count": 190,
   "metadata": {},
   "outputs": [
    {
     "name": "stdout",
     "output_type": "stream",
     "text": [
      "Original Array:\n",
      "['Python' 'PHP' 'Java' 'C++']\n",
      "New array:\n",
      "['PythonPythonPython' 'PHPPHPPHP' 'JavaJavaJava' 'C++C++C++']\n"
     ]
    }
   ],
   "source": [
    "x1 = np.array(['Python', 'PHP', 'Java', 'C++'], dtype=np.str)\n",
    "print(\"Original Array:\")\n",
    "print(x1)\n",
    "new_array = np.char.multiply(x1, 3)\n",
    "print(\"New array:\")\n",
    "print(new_array)"
   ]
  },
  {
   "cell_type": "markdown",
   "metadata": {},
   "source": [
    "89. Write a NumPy program to capitalize the first letter, lowercase, uppercase, swapcase, title-case of all the elements of a given array."
   ]
  },
  {
   "cell_type": "code",
   "execution_count": 191,
   "metadata": {},
   "outputs": [
    {
     "name": "stdout",
     "output_type": "stream",
     "text": [
      "Original Array:\n",
      "['python' 'PHP' 'java' 'C++']\n",
      "\n",
      "Capitalized:  ['Python' 'Php' 'Java' 'C++']\n",
      "Lowered:  ['python' 'php' 'java' 'c++']\n",
      "Uppered:  ['PYTHON' 'PHP' 'JAVA' 'C++']\n",
      "Swapcased:  ['PYTHON' 'php' 'JAVA' 'c++']\n",
      "Titlecased:  ['Python' 'Php' 'Java' 'C++']\n"
     ]
    }
   ],
   "source": [
    "x = np.array(['python', 'PHP', 'java', 'C++'], dtype=np.str)\n",
    "print(\"Original Array:\")\n",
    "print(x)\n",
    "capitalized_case = np.char.capitalize(x)\n",
    "lowered_case = np.char.lower(x)\n",
    "uppered_case = np.char.upper(x)\n",
    "swapcased_case = np.char.swapcase(x)\n",
    "titlecased_case = np.char.title(x)\n",
    "print(\"\\nCapitalized: \", capitalized_case)\n",
    "print(\"Lowered: \", lowered_case)\n",
    "print(\"Uppered: \", uppered_case)\n",
    "print(\"Swapcased: \", swapcased_case)\n",
    "print(\"Titlecased: \", titlecased_case)"
   ]
  },
  {
   "cell_type": "markdown",
   "metadata": {},
   "source": [
    "90. Write a NumPy program to insert a space between characters of all the elements of a given array"
   ]
  },
  {
   "cell_type": "code",
   "execution_count": 192,
   "metadata": {},
   "outputs": [
    {
     "name": "stdout",
     "output_type": "stream",
     "text": [
      "Original Array:\n",
      "['python exercises' 'PHP' 'java' 'C++']\n",
      "['p y t h o n   e x e r c i s e s' 'P H P' 'j a v a' 'C + +']\n"
     ]
    }
   ],
   "source": [
    "x = np.array(['python exercises', 'PHP', 'java', 'C++'], dtype=np.str)\n",
    "print(\"Original Array:\")\n",
    "print(x)\n",
    "r = np.char.join(\" \", x)\n",
    "print(r)"
   ]
  },
  {
   "cell_type": "markdown",
   "metadata": {},
   "source": [
    "91. Write a NumPy program to encode all the elements of a given array in cp500 and decode it again."
   ]
  },
  {
   "cell_type": "code",
   "execution_count": 193,
   "metadata": {},
   "outputs": [
    {
     "name": "stdout",
     "output_type": "stream",
     "text": [
      "Original Array:\n",
      "['python exercises' 'PHP' 'java' 'C++']\n",
      "\n",
      "encoded = [b'\\x97\\xa8\\xa3\\x88\\x96\\x95@\\x85\\xa7\\x85\\x99\\x83\\x89\\xa2\\x85\\xa2'\n",
      " b'\\xd7\\xc8\\xd7' b'\\x91\\x81\\xa5\\x81' b'\\xc3NN']\n",
      "decoded = ['python exercises' 'PHP' 'java' 'C++']\n"
     ]
    }
   ],
   "source": [
    "x = np.array(['python exercises', 'PHP', 'java', 'C++'], dtype=np.str)\n",
    "print(\"Original Array:\")\n",
    "print(x)\n",
    "encoded_char = np.char.encode(x, 'cp500')\n",
    "decoded_char = np.char.decode(encoded_char,'cp500')\n",
    "print(\"\\nencoded =\", encoded_char)\n",
    "print(\"decoded =\", decoded_char)"
   ]
  },
  {
   "cell_type": "markdown",
   "metadata": {},
   "source": [
    "92. Write a NumPy program to remove the leading whitespaces of all the elements of a given array."
   ]
  },
  {
   "cell_type": "code",
   "execution_count": 194,
   "metadata": {},
   "outputs": [
    {
     "name": "stdout",
     "output_type": "stream",
     "text": [
      "Original Array:\n",
      "[' python exercises ' ' PHP  ' ' java  ' '  C++']\n",
      "\n",
      "Remove the leading whitespaces :  ['python exercises ' 'PHP  ' 'java  ' 'C++']\n"
     ]
    }
   ],
   "source": [
    "x = np.array([' python exercises ', ' PHP  ', ' java  ', '  C++'], dtype=np.str)\n",
    "print(\"Original Array:\")\n",
    "print(x)\n",
    "lstripped_char = np.char.lstrip(x)\n",
    "print(\"\\nRemove the leading whitespaces : \", lstripped_char)"
   ]
  },
  {
   "cell_type": "markdown",
   "metadata": {},
   "source": [
    "93. Write a NumPy program to split the element of a given array with spaces."
   ]
  },
  {
   "cell_type": "code",
   "execution_count": 195,
   "metadata": {},
   "outputs": [
    {
     "name": "stdout",
     "output_type": "stream",
     "text": [
      "Original Array:\n",
      "['Python PHP Java C++']\n",
      "\n",
      "Split the element of the said array with spaces: \n",
      "[list(['Python', 'PHP', 'Java', 'C++'])]\n"
     ]
    }
   ],
   "source": [
    "x = np.array(['Python PHP Java C++'], dtype=np.str)\n",
    "print(\"Original Array:\")\n",
    "print(x)\n",
    "r = np.char.split(x)\n",
    "print(\"\\nSplit the element of the said array with spaces: \")\n",
    "print(r)"
   ]
  },
  {
   "cell_type": "markdown",
   "metadata": {},
   "source": [
    "94. Write a NumPy program to multiply a matrix by another matrix of complex numbers and create a new matrix of complex numbers."
   ]
  },
  {
   "cell_type": "code",
   "execution_count": 196,
   "metadata": {},
   "outputs": [
    {
     "name": "stdout",
     "output_type": "stream",
     "text": [
      "First array:\n",
      "[1.+2.j 3.+4.j]\n",
      "Second array:\n",
      "[5.+6.j 7.+8.j]\n",
      "Product of above two arrays:\n",
      "(70-8j)\n"
     ]
    }
   ],
   "source": [
    "x = np.array([1+2j,3+4j])\n",
    "print(\"First array:\")\n",
    "print(x)\n",
    "y = np.array([5+6j,7+8j])\n",
    "print(\"Second array:\")\n",
    "print(y)\n",
    "z = np.vdot(x, y)\n",
    "print(\"Product of above two arrays:\")\n",
    "print(z)\n"
   ]
  },
  {
   "cell_type": "markdown",
   "metadata": {},
   "source": [
    "95. Write a NumPy program to replace \"PHP\" with \"Python\" in the element of a given array."
   ]
  },
  {
   "cell_type": "code",
   "execution_count": 197,
   "metadata": {},
   "outputs": [
    {
     "name": "stdout",
     "output_type": "stream",
     "text": [
      "\n",
      "Original Array:\n",
      "['PHP Exercises, Practice, Solution']\n",
      "\n",
      "New array:\n",
      "['Python Exercises, Practice, Solution']\n"
     ]
    }
   ],
   "source": [
    "x = np.array(['PHP Exercises, Practice, Solution'], dtype=np.str)\n",
    "print(\"\\nOriginal Array:\")\n",
    "print(x)\n",
    "r = np.char.replace(x, \"PHP\", \"Python\")\n",
    "print(\"\\nNew array:\")\n",
    "print(r)"
   ]
  },
  {
   "cell_type": "markdown",
   "metadata": {},
   "source": [
    "96. Write a NumPy program to get the dates of yesterday, today and tomorrow"
   ]
  },
  {
   "cell_type": "code",
   "execution_count": 198,
   "metadata": {},
   "outputs": [
    {
     "name": "stdout",
     "output_type": "stream",
     "text": [
      "Yestraday:  2020-12-18\n",
      "Today:  2020-12-19\n",
      "Tomorrow:  2020-12-20\n"
     ]
    }
   ],
   "source": [
    "yesterday = np.datetime64('today', 'D') - np.timedelta64(1, 'D')\n",
    "print(\"Yestraday: \",yesterday)\n",
    "today     = np.datetime64('today', 'D')\n",
    "print(\"Today: \",today)\n",
    "tomorrow  = np.datetime64('today', 'D') + np.timedelta64(1, 'D')\n",
    "print(\"Tomorrow: \",tomorrow)"
   ]
  },
  {
   "cell_type": "markdown",
   "metadata": {},
   "source": [
    "97. Write a NumPy program to count the number of days of specific month."
   ]
  },
  {
   "cell_type": "code",
   "execution_count": 199,
   "metadata": {},
   "outputs": [
    {
     "name": "stdout",
     "output_type": "stream",
     "text": [
      "Number of days, February, 2016: \n",
      "29 days\n",
      "Number of days, February, 2017: \n",
      "28 days\n",
      "Number of days, February, 2018: \n",
      "28 days\n"
     ]
    }
   ],
   "source": [
    "print(\"Number of days, February, 2016: \")\n",
    "print(np.datetime64('2016-03-01') - np.datetime64('2016-02-01'))\n",
    "print(\"Number of days, February, 2017: \")\n",
    "print(np.datetime64('2017-03-01') - np.datetime64('2017-02-01'))\n",
    "print(\"Number of days, February, 2018: \")\n",
    "print(np.datetime64('2018-03-01') - np.datetime64('2018-02-01'))"
   ]
  },
  {
   "cell_type": "markdown",
   "metadata": {},
   "source": [
    "98. Write a NumPy program to find the first Monday in May 2020."
   ]
  },
  {
   "cell_type": "code",
   "execution_count": 200,
   "metadata": {},
   "outputs": [
    {
     "name": "stdout",
     "output_type": "stream",
     "text": [
      "First Monday in May 2020:\n",
      "2020-05-04\n"
     ]
    }
   ],
   "source": [
    "print(\"First Monday in May 2020:\")\n",
    "print(np.busday_offset('2020-05', 0, roll='forward', weekmask='Mon'))"
   ]
  },
  {
   "cell_type": "markdown",
   "metadata": {},
   "source": [
    "99.  Write a NumPy program to find the number of weekdays in March 2020."
   ]
  },
  {
   "cell_type": "code",
   "execution_count": 201,
   "metadata": {},
   "outputs": [
    {
     "name": "stdout",
     "output_type": "stream",
     "text": [
      "Number of weekdays in March 2020:\n",
      "22\n"
     ]
    }
   ],
   "source": [
    "print(\"Number of weekdays in March 2020:\")\n",
    "print(np.busday_count('2020-03', '2020-04'))"
   ]
  },
  {
   "cell_type": "markdown",
   "metadata": {},
   "source": [
    "100.  Write a NumPy program to convert numpy datetime64 to Timestamp."
   ]
  },
  {
   "cell_type": "code",
   "execution_count": 202,
   "metadata": {},
   "outputs": [
    {
     "name": "stdout",
     "output_type": "stream",
     "text": [
      "Current date:\n",
      "2020-12-19 08:12:23.863872\n",
      "Timestamp:\n",
      "1608365543.863872\n",
      "UTC from Timestamp:\n",
      "2020-12-19 08:12:23.863872\n"
     ]
    },
    {
     "name": "stderr",
     "output_type": "stream",
     "text": [
      "<ipython-input-202-33e80203169d>:6: DeprecationWarning: parsing timezone aware datetimes is deprecated; this will raise an error in the future\n",
      "  ts = (dt64 - np.datetime64('1970-01-01T00:00:00Z')) / np.timedelta64(1, 's')\n"
     ]
    }
   ],
   "source": [
    "from datetime import datetime\n",
    "dt = datetime.utcnow()\n",
    "print(\"Current date:\")\n",
    "print(dt)\n",
    "dt64 = np.datetime64(dt)\n",
    "ts = (dt64 - np.datetime64('1970-01-01T00:00:00Z')) / np.timedelta64(1, 's')\n",
    "print(\"Timestamp:\")\n",
    "print(ts)\n",
    "print(\"UTC from Timestamp:\")\n",
    "print(datetime.utcfromtimestamp(ts))"
   ]
  },
  {
   "cell_type": "code",
   "execution_count": null,
   "metadata": {},
   "outputs": [],
   "source": []
  }
 ],
 "metadata": {
  "kernelspec": {
   "display_name": "Python 3",
   "language": "python",
   "name": "python3"
  },
  "language_info": {
   "codemirror_mode": {
    "name": "ipython",
    "version": 3
   },
   "file_extension": ".py",
   "mimetype": "text/x-python",
   "name": "python",
   "nbconvert_exporter": "python",
   "pygments_lexer": "ipython3",
   "version": "3.8.1"
  }
 },
 "nbformat": 4,
 "nbformat_minor": 4
}
